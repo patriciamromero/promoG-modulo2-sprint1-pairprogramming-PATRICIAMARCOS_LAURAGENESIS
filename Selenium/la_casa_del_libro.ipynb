{
 "cells": [
  {
   "cell_type": "code",
   "execution_count": 50,
   "metadata": {},
   "outputs": [],
   "source": [
    "# Importar librerías para tratamiento de datos\n",
    "# -----------------------------------------------------------------------\n",
    "import pandas as pd  # Pandas es una poderosa librería para manipulación y análisis de datos en Python.\n",
    "import numpy as np\n",
    "# Importar librerías para web scraping y manipulación de datos\n",
    "# -----------------------------------------------------------------------\n",
    "from bs4 import BeautifulSoup\n",
    "import requests\n",
    "\n",
    "# Importar librerías para automatización de navegadores web con Selenium\n",
    "# -----------------------------------------------------------------------\n",
    "from selenium import webdriver  # Selenium es una herramienta para automatizar la interacción con navegadores web.\n",
    "from webdriver_manager.chrome import ChromeDriverManager  # ChromeDriverManager gestiona la instalación del controlador de Chrome.\n",
    "from selenium.webdriver.common.keys import Keys  # Keys es útil para simular eventos de teclado en Selenium.\n",
    "from selenium.webdriver.support.ui import Select  # Select se utiliza para interactuar con elementos <select> en páginas web.\n",
    "\n",
    "# Importar librerías para pausar la ejecución\n",
    "# -----------------------------------------------------------------------\n",
    "from time import sleep  # Sleep se utiliza para pausar la ejecución del programa por un número de segundos.\n",
    "\n",
    "# Configuraciones\n",
    "# -----------------------------------------------------------------------\n",
    "pd.set_option('display.max_columns', None)  # Establece una opción de Pandas para mostrar todas las columnas de un DataFrame."
   ]
  },
  {
   "cell_type": "code",
   "execution_count": 65,
   "metadata": {},
   "outputs": [
    {
     "name": "stdout",
     "output_type": "stream",
     "text": [
      "                                titulo                   autor   precio  \\\n",
      "0                  EN AGOSTO NOS VEMOS  GABRIEL GARCIA MARQUEZ  18,90 €   \n",
      "1                                ANSIA           HENAR ALVAREZ  18,90 €   \n",
      "2  UN LUGAR SOLEADO PARA GENTE SOMBRÍA        MARIANA ENRIQUEZ  18,90 €   \n",
      "3              LA REPÚBLICA DEL DRAGÓN             R. F. KUANG  22,80 €   \n",
      "4              BLACKWATER III. LA CASA        MICHAEL MCDOWELL   9,40 €   \n",
      "\n",
      "                 editorial      idioma numero_paginas  \n",
      "0             Random House  Castellano            120  \n",
      "1        Editorial Planeta  Castellano            256  \n",
      "2  Editorial Anagrama S.A.  Castellano            232  \n",
      "3          Editorial Hidra  Castellano            792  \n",
      "4            Blackie Books  Castellano            272  \n"
     ]
    }
   ],
   "source": [
    "driver = webdriver.Firefox()\n",
    "# driver.maximize_window()\n",
    "driver.get(\"https://www.casadellibro.com/\")\n",
    "sleep(1)\n",
    "driver.find_element(\"css selector\", \"#onetrust-accept-btn-handler\").click() \n",
    "sleep(1)\n",
    "driver.find_element(\"css selector\", \"#app > div.v-application--wrap > div.when-mobile > div.cabecera.desktop > div.bottom-row > div > div > div:nth-child(2) > a\").click()\n",
    "sleep(4)\n",
    "\n",
    "diccionario_ficcion = {\"titulo\":[],\"autor\":[],\"precio\":[],\"editorial\":[],\"idioma\":[],\"numero_paginas\":[]}\n",
    "# Sacar selectores del primer producto\n",
    "elements = driver.find_element(\"css selector\", \"#app > div.v-application--wrap > main > div > div > div > div:nth-child(3) > div > div:nth-child(2) > div > div.swiper\")\n",
    "\n",
    "\n",
    "contador = 1\n",
    "for element in elements.text[3::10]:\n",
    "\n",
    "    sleep(2)\n",
    "\n",
    "    driver.find_element(\"css selector\", f\"#app > div.v-application--wrap > main > div > div > div > div:nth-child(3) > div > div:nth-child(2) > div > div.swiper > div:nth-child({contador})\").click()\n",
    "    sleep(2)\n",
    "\n",
    "    titulo = driver.find_element(\"css selector\", \"#app > div.v-application--wrap > main > div > div > div > div:nth-child(3) > div > div.col-md-5.order-lg-2.col-12.order-1 > div > h1\").text\n",
    "    diccionario_ficcion[\"titulo\"].append(titulo)\n",
    "    autor = driver.find_element(\"css selector\", \"#app > div.v-application--wrap > main > div > div > div > div:nth-child(3) > div > div.col-md-5.order-lg-2.col-12.order-1 > div > div.text-h5.d-flex.flex-wrap.author.mb-2.justify-center.justify-sm-start > div > a\").text\n",
    "    diccionario_ficcion[\"autor\"].append(autor)\n",
    "    precio =  driver.find_element(\"css selector\", \"#app > div.v-application--wrap > main > div > div > div > div:nth-child(3) > div > div.border-left.col-md-4.col-12.order-3 > div > div:nth-child(3) > div.col.col-8 > strong\").text\n",
    "    diccionario_ficcion[\"precio\"].append(precio)\n",
    "    element = driver.find_element(\"css selector\", \".caracteristicas.mt-4.pt-4 > div:nth-child(1)\")\n",
    "    paginas = element.text.split()[-1]\n",
    "    diccionario_ficcion[\"numero_paginas\"].append(paginas)\n",
    "    element = driver.find_element(\"css selector\", \".caracteristicas.mt-4.pt-4 > div:nth-child(2)\")\n",
    "    editorial = \" \".join(element.text.split()[1:])\n",
    "    diccionario_ficcion[\"editorial\"].append(editorial)\n",
    "    element = driver.find_element(\"css selector\", \".caracteristicas.mt-4.pt-4 > div:nth-child(3)\")\n",
    "    idioma = element.text.split()[-1]\n",
    "    diccionario_ficcion[\"idioma\"].append(idioma.capitalize())\n",
    "    driver.back()\n",
    "\n",
    "    contador +=1\n",
    "    if contador > 5:\n",
    "        break\n",
    "\n",
    "driver.close()\n",
    "\n",
    "dataframe_ficcion = pd.DataFrame(diccionario_ficcion)\n",
    "print(dataframe_ficcion)\n"
   ]
  }
 ],
 "metadata": {
  "kernelspec": {
   "display_name": "Python 3",
   "language": "python",
   "name": "python3"
  },
  "language_info": {
   "codemirror_mode": {
    "name": "ipython",
    "version": 3
   },
   "file_extension": ".py",
   "mimetype": "text/x-python",
   "name": "python",
   "nbconvert_exporter": "python",
   "pygments_lexer": "ipython3",
   "version": "3.9.7"
  }
 },
 "nbformat": 4,
 "nbformat_minor": 2
}
